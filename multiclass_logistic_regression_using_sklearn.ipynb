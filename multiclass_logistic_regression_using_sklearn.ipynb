{
  "cells": [
    {
      "cell_type": "markdown",
      "metadata": {
        "id": "view-in-github",
        "colab_type": "text"
      },
      "source": [
        "<a href=\"https://colab.research.google.com/github/dineshram345/Flask-To-Do-List-App-/blob/main/multiclass_logistic_regression_using_sklearn.ipynb\" target=\"_parent\"><img src=\"https://colab.research.google.com/assets/colab-badge.svg\" alt=\"Open In Colab\"/></a>"
      ]
    },
    {
      "metadata": {
        "id": "UQqAjO469M4u"
      },
      "cell_type": "markdown",
      "source": [
        "![multiclass_logistic_regression_sklearn_header.png](https://raw.githubusercontent.com/satishgunjal/images/master/multiclass_logistic_regression_sklearn_header.png)\n",
        "\n",
        "In this study we are going to use the Linear Model from Sklearn library to perform Multi class Logistic Regression. We are going to use handwritten digit's dataset from Sklearn. [Optical recognition of handwritten digits dataset](https://scikit-learn.org/stable/datasets/index.html#optical-recognition-of-handwritten-digits-dataset)\n",
        "\n"
      ]
    },
    {
      "metadata": {
        "id": "7hzh9Uz59M4w"
      },
      "cell_type": "markdown",
      "source": [
        "# Introduction\n",
        "When outcome has more than to categories, Multi class regression is used for classification. For e.g. mail classification as primary, social, promotions, forums. We are going to use One Vs Rest (OVR) algorithm.\n",
        "\n",
        "This is also called as one vs all algorithm. As name suggest in this algorithm we choose one class and put all other classes into second virtual class and run the binary logistic regression on it. We repeat this procedure for all the classes in the dataset. So we actually end up with binary classifiers designed to recognize each class in dataset\n",
        "\n",
        "For prediction on given data, our algorithm returns probabilities for each class in the dataset and whichever class has the highest probability is our prediction"
      ]
    },
    {
      "metadata": {
        "id": "NY2Kp28O9M4x"
      },
      "cell_type": "markdown",
      "source": [
        "# Problem Statement\n",
        "The data set contains images of hand-written digits: 10 classes where each class refers to a digit(0 to 9). Objective of our model is to predict the correct digit from 0 to 9, based on given handwritten image of digit."
      ]
    },
    {
      "metadata": {
        "id": "iV4uLOyY9M4x"
      },
      "cell_type": "markdown",
      "source": [
        "# Import Libraries\n",
        "* pandas: Used for data manipulation and analysis\n",
        "* numpy : Numpy is the core library for scientific computing in Python. It is used for working with arrays and matrices.\n",
        "* matplotlib : It's plotting library, and we are going to use it for data visualization\n",
        "* datasets: Here we are going to use 'load_digits' dataset\n",
        "* model_selection: Here we are going to use model_selection.train_test_split() for splitting the data\n",
        "* linear_model: Here we are going to linear_model.LogisticRegression() for classification\n",
        "* metrics: Here we are going use metrics.plot_confusion_matrix() and metrics.classification_report() for model analysis"
      ]
    },
    {
      "metadata": {
        "_uuid": "d629ff2d2480ee46fbb7e2d37f6b5fab8052498a",
        "_cell_guid": "79c7e3d0-c299-4dcb-8224-4455121ee9b0",
        "trusted": true,
        "id": "fqnxhBAg9M4y"
      },
      "cell_type": "code",
      "source": [
        "import pandas as pd\n",
        "import numpy as np\n",
        "import matplotlib.pyplot as plt\n",
        "from sklearn import datasets\n",
        "from sklearn import model_selection\n",
        "from sklearn import linear_model\n",
        "from sklearn import metrics"
      ],
      "execution_count": null,
      "outputs": []
    },
    {
      "metadata": {
        "id": "uHUf-Et-9M4z"
      },
      "cell_type": "markdown",
      "source": [
        "# Load The Data\n",
        "* We are going to use [Optical recognition of handwritten digits dataset](https://scikit-learn.org/stable/datasets/index.html#optical-recognition-of-handwritten-digits-dataset)\n",
        "* Dataset characteristics are,\n",
        "  - Number of Attributes: 64\n",
        "  - Attribute Information: 8x8 image of integer pixels in the range 0 to 16.\n",
        "  - Missing Attribute Values: None\n",
        "  - Creator: Alpaydin (alpaydin ‘@’ boun.edu.tr)\n",
        "  - Date: July; 1998"
      ]
    },
    {
      "metadata": {
        "trusted": true,
        "colab": {
          "base_uri": "https://localhost:8080/"
        },
        "id": "8kvOegF69M4z",
        "outputId": "3c0c8102-86e3-4306-f5f4-c03256970d0a"
      },
      "cell_type": "code",
      "source": [
        "digits_df = datasets.load_digits()\n",
        "print('Digits dataset structure= ', dir(digits_df))\n",
        "print('Data shape= ', digits_df.data.shape)\n",
        "print('Data conatins pixel representation of each image, \\n', digits_df.data)"
      ],
      "execution_count": null,
      "outputs": [
        {
          "output_type": "stream",
          "name": "stdout",
          "text": [
            "Digits dataset structure=  ['DESCR', 'data', 'feature_names', 'frame', 'images', 'target', 'target_names']\n",
            "Data shape=  (1797, 64)\n",
            "Data conatins pixel representation of each image, \n",
            " [[ 0.  0.  5. ...  0.  0.  0.]\n",
            " [ 0.  0.  0. ... 10.  0.  0.]\n",
            " [ 0.  0.  0. ... 16.  9.  0.]\n",
            " ...\n",
            " [ 0.  0.  1. ...  6.  0.  0.]\n",
            " [ 0.  0.  2. ... 12.  0.  0.]\n",
            " [ 0.  0. 10. ... 12.  1.  0.]]\n"
          ]
        }
      ]
    },
    {
      "metadata": {
        "id": "2Lni48sn9M40"
      },
      "cell_type": "markdown",
      "source": [
        "# Data Understanding\n",
        "Dataset contains 10 classes(0 to 9 digits). There are 180 training example per class and total 1797 training examples. Each training example is 8x8 image i.e. flat array of 64 pixels or matrix of 8x8. Each pixel value is represented by integer from 0 to 16. So our input data is of shape (1797x64) i.e. 1797 rows and 64 columns\n",
        "\n",
        "* digits.DESCR: Description of the dataset\n",
        "* digits.data:  \n",
        "  - ndarray of shape (1797, 64)\n",
        "  - The flattened data matrix of training data.i.e Every 8x8 image data matrix is converted to 64 pixel flat array.\n",
        "  - We are going to use this data for model training\n",
        "* digits.images:  \n",
        "  - ndarray of shape (1797, 8, 8)\n",
        "  - It contains raw image data in the form of 8x8 matrix\n",
        "  - We are going to use this data for plotting the images\n",
        "* digits.target: Contains target value(0 to 9) for each training examples, so it contains 1797, y labels\n",
        "* digits.target_names: Contains name for each target since we have 10 classes it contains 10 names only\n",
        "\n",
        "Here digits.data is our independent/inputs/ X variables\n",
        "\n",
        "And digits.target is our dependent/target/y variable"
      ]
    },
    {
      "metadata": {
        "id": "PAyiRTn29M40"
      },
      "cell_type": "markdown",
      "source": [
        "## Data Visualization\n",
        "Let's visualize the images from digits dataset"
      ]
    },
    {
      "metadata": {
        "trusted": true,
        "colab": {
          "base_uri": "https://localhost:8080/",
          "height": 201
        },
        "id": "ddntkH0q9M41",
        "outputId": "4e6240e6-71be-4372-cf02-fc9f21aa8560"
      },
      "cell_type": "code",
      "source": [
        "# Using subplot to plot the digits from 0 to 4\n",
        "rows = 1\n",
        "columns = 5\n",
        "fig, ax =  plt.subplots(rows, columns, figsize = (15,6))\n",
        "\n",
        "plt.gray()\n",
        "for i in range(columns):\n",
        "  ax[i].matshow(digits_df.images[i])\n",
        "  ax[i].set_title('Label: %s\\n' % digits_df.target_names[i])\n",
        "\n",
        "plt.show()"
      ],
      "execution_count": null,
      "outputs": [
        {
          "output_type": "display_data",
          "data": {
            "text/plain": [
              "<Figure size 1500x600 with 5 Axes>"
            ],
            "image/png": "[encoded data removed]"
          },
          "metadata": {}
        }
      ]
    },
    {
      "metadata": {
        "id": "uA982h9U9M41"
      },
      "cell_type": "markdown",
      "source": [
        "# Build Machine Learning Model"
      ]
    },
    {
      "metadata": {
        "id": "HHx0gbXW9M41"
      },
      "cell_type": "markdown",
      "source": [
        "## Create Feature Matrix X and Label Vector y\n",
        "Note for training and testing we are going to use 'digits_df.data' and not 'digits_df.images'"
      ]
    },
    {
      "cell_type": "code",
      "source": [
        "digits_df.target"
      ],
      "metadata": {
        "colab": {
          "base_uri": "https://localhost:8080/"
        },
        "id": "uJRzaYJR-Sxx",
        "outputId": "225cc326-a1ae-4bd7-9a4e-f1f387af0039"
      },
      "execution_count": null,
      "outputs": [
        {
          "output_type": "execute_result",
          "data": {
            "text/plain": [
              "array([0, 1, 2, ..., 8, 9, 8])"
            ]
          },
          "metadata": {},
          "execution_count": 4
        }
      ]
    },
    {
      "metadata": {
        "trusted": true,
        "id": "jZnYVdK99M41"
      },
      "cell_type": "code",
      "source": [
        "X = digits_df.data\n",
        "y = digits_df.target"
      ],
      "execution_count": null,
      "outputs": []
    },
    {
      "metadata": {
        "id": "fYRw1bnO9M41"
      },
      "cell_type": "markdown",
      "source": [
        "## Create Test And Train Dataset\n",
        "* We will split the dataset, so that we can use one set of data for training the model and one set of data for testing the model\n",
        "* We will keep 20% of data for testing and 80% of data for training the model\n",
        "* If you want to learn more about it, please refer [Train Test Split](https://satishgunjal.com/train_test_split/) tutorial"
      ]
    },
    {
      "metadata": {
        "trusted": true,
        "colab": {
          "base_uri": "https://localhost:8080/"
        },
        "id": "Epo2yYfk9M42",
        "outputId": "4a764e3b-dbb4-485c-f130-8437daba685e"
      },
      "cell_type": "code",
      "source": [
        "X_train, X_test, y_train, y_test = model_selection.train_test_split(X, y, test_size= 0.2, random_state = 1)\n",
        "\n",
        "print('X_train dimension= ', X_train.shape)\n",
        "print('X_test dimension= ', X_test.shape)\n",
        "print('y_train dimension= ', y_train.shape)\n",
        "print('y_test dimension= ', y_test.shape)"
      ],
      "execution_count": null,
      "outputs": [
        {
          "output_type": "stream",
          "name": "stdout",
          "text": [
            "X_train dimension=  (1437, 64)\n",
            "X_test dimension=  (360, 64)\n",
            "y_train dimension=  (1437,)\n",
            "y_test dimension=  (360,)\n"
          ]
        }
      ]
    },
    {
      "metadata": {
        "id": "XDqcLp-Y9M42"
      },
      "cell_type": "markdown",
      "source": [
        "Now lets train the model using OVR algorithm"
      ]
    },
    {
      "metadata": {
        "id": "PcM-mMFm9M42"
      },
      "cell_type": "markdown",
      "source": [
        "## Multi class Logistic Regression Using OVR\n",
        "* Since we are going to use One Vs Rest algorithm, set >  multi_class='ovr'\n",
        "* Note: since we are using One Vs Rest algorithm we must use 'liblinear' solver with it."
      ]
    },
    {
      "metadata": {
        "trusted": true,
        "colab": {
          "base_uri": "https://localhost:8080/",
          "height": 75
        },
        "id": "NE2ZR7OT9M42",
        "outputId": "8c896aea-7dd7-4a63-d5ac-1cfbc9af5c10"
      },
      "cell_type": "code",
      "source": [
        "lm = linear_model.LogisticRegression(multi_class='ovr', solver='liblinear')\n",
        "lm.fit(X_train, y_train)"
      ],
      "execution_count": null,
      "outputs": [
        {
          "output_type": "execute_result",
          "data": {
            "text/plain": [
              "LogisticRegression(multi_class='ovr', solver='liblinear')"
            ],
            "text/html": [
              "<style>#sk-container-id-1 {color: black;background-color: white;}#sk-container-id-1 pre{padding: 0;}#sk-container-id-1 div.sk-toggleable {background-color: white;}#sk-container-id-1 label.sk-toggleable__label {cursor: pointer;display: block;width: 100%;margin-bottom: 0;padding: 0.3em;box-sizing: border-box;text-align: center;}#sk-container-id-1 label.sk-toggleable__label-arrow:before {content: \"▸\";float: left;margin-right: 0.25em;color: #696969;}#sk-container-id-1 label.sk-toggleable__label-arrow:hover:before {color: black;}#sk-container-id-1 div.sk-estimator:hover label.sk-toggleable__label-arrow:before {color: black;}#sk-container-id-1 div.sk-toggleable__content {max-height: 0;max-width: 0;overflow: hidden;text-align: left;background-color: #f0f8ff;}#sk-container-id-1 div.sk-toggleable__content pre {margin: 0.2em;color: black;border-radius: 0.25em;background-color: #f0f8ff;}#sk-container-id-1 input.sk-toggleable__control:checked~div.sk-toggleable__content {max-height: 200px;max-width: 100%;overflow: auto;}#sk-container-id-1 input.sk-toggleable__control:checked~label.sk-toggleable__label-arrow:before {content: \"▾\";}#sk-container-id-1 div.sk-estimator input.sk-toggleable__control:checked~label.sk-toggleable__label {background-color: #d4ebff;}#sk-container-id-1 div.sk-label input.sk-toggleable__control:checked~label.sk-toggleable__label {background-color: #d4ebff;}#sk-container-id-1 input.sk-hidden--visually {border: 0;clip: rect(1px 1px 1px 1px);clip: rect(1px, 1px, 1px, 1px);height: 1px;margin: -1px;overflow: hidden;padding: 0;position: absolute;width: 1px;}#sk-container-id-1 div.sk-estimator {font-family: monospace;background-color: #f0f8ff;border: 1px dotted black;border-radius: 0.25em;box-sizing: border-box;margin-bottom: 0.5em;}#sk-container-id-1 div.sk-estimator:hover {background-color: #d4ebff;}#sk-container-id-1 div.sk-parallel-item::after {content: \"\";width: 100%;border-bottom: 1px solid gray;flex-grow: 1;}#sk-container-id-1 div.sk-label:hover label.sk-toggleable__label {background-color: #d4ebff;}#sk-container-id-1 div.sk-serial::before {content: \"\";position: absolute;border-left: 1px solid gray;box-sizing: border-box;top: 0;bottom: 0;left: 50%;z-index: 0;}#sk-container-id-1 div.sk-serial {display: flex;flex-direction: column;align-items: center;background-color: white;padding-right: 0.2em;padding-left: 0.2em;position: relative;}#sk-container-id-1 div.sk-item {position: relative;z-index: 1;}#sk-container-id-1 div.sk-parallel {display: flex;align-items: stretch;justify-content: center;background-color: white;position: relative;}#sk-container-id-1 div.sk-item::before, #sk-container-id-1 div.sk-parallel-item::before {content: \"\";position: absolute;border-left: 1px solid gray;box-sizing: border-box;top: 0;bottom: 0;left: 50%;z-index: -1;}#sk-container-id-1 div.sk-parallel-item {display: flex;flex-direction: column;z-index: 1;position: relative;background-color: white;}#sk-container-id-1 div.sk-parallel-item:first-child::after {align-self: flex-end;width: 50%;}#sk-container-id-1 div.sk-parallel-item:last-child::after {align-self: flex-start;width: 50%;}#sk-container-id-1 div.sk-parallel-item:only-child::after {width: 0;}#sk-container-id-1 div.sk-dashed-wrapped {border: 1px dashed gray;margin: 0 0.4em 0.5em 0.4em;box-sizing: border-box;padding-bottom: 0.4em;background-color: white;}#sk-container-id-1 div.sk-label label {font-family: monospace;font-weight: bold;display: inline-block;line-height: 1.2em;}#sk-container-id-1 div.sk-label-container {text-align: center;}#sk-container-id-1 div.sk-container {/* jupyter's `normalize.less` sets `[hidden] { display: none; }` but bootstrap.min.css set `[hidden] { display: none !important; }` so we also need the `!important` here to be able to override the default hidden behavior on the sphinx rendered scikit-learn.org. See: https://github.com/scikit-learn/scikit-learn/issues/21755 */display: inline-block !important;position: relative;}#sk-container-id-1 div.sk-text-repr-fallback {display: none;}</style><div id=\"sk-container-id-1\" class=\"sk-top-container\"><div class=\"sk-text-repr-fallback\"><pre>LogisticRegression(multi_class=&#x27;ovr&#x27;, solver=&#x27;liblinear&#x27;)</pre><b>In a Jupyter environment, please rerun this cell to show the HTML representation or trust the notebook. <br />On GitHub, the HTML representation is unable to render, please try loading this page with nbviewer.org.</b></div><div class=\"sk-container\" hidden><div class=\"sk-item\"><div class=\"sk-estimator sk-toggleable\"><input class=\"sk-toggleable__control sk-hidden--visually\" id=\"sk-estimator-id-1\" type=\"checkbox\" checked><label for=\"sk-estimator-id-1\" class=\"sk-toggleable__label sk-toggleable__label-arrow\">LogisticRegression</label><div class=\"sk-toggleable__content\"><pre>LogisticRegression(multi_class=&#x27;ovr&#x27;, solver=&#x27;liblinear&#x27;)</pre></div></div></div></div></div>"
            ]
          },
          "metadata": {},
          "execution_count": 7
        }
      ]
    },
    {
      "metadata": {
        "id": "1YO8oBaU9M42"
      },
      "cell_type": "markdown",
      "source": [
        "# Testing The Model\n",
        "* For testing we are going to use the test data only\n",
        "* **Question: Predict the value of 200 digits from test data**"
      ]
    },
    {
      "metadata": {
        "trusted": true,
        "colab": {
          "base_uri": "https://localhost:8080/",
          "height": 472
        },
        "id": "f6_RLNpw9M42",
        "outputId": "7e596bc8-efba-4b95-e0c2-245336b3ba35"
      },
      "cell_type": "code",
      "source": [
        "print('Predicted value is =', lm.predict([X_test[200]]))\n",
        "\n",
        "print('Actual value from test data is %s and corresponding image is as below' % (y_test[200]) )\n",
        "plt.matshow(digits_df.images[200])\n",
        "plt.show()"
      ],
      "execution_count": null,
      "outputs": [
        {
          "output_type": "stream",
          "name": "stdout",
          "text": [
            "Predicted value is = [4]\n",
            "Actual value from test data is 4 and corresponding image is as below\n"
          ]
        },
        {
          "output_type": "display_data",
          "data": {
            "text/plain": [
              "<Figure size 480x480 with 1 Axes>"
            ],
            "image/png": "[encoded data removed]"
          },
          "metadata": {}
        }
      ]
    },
    {
      "metadata": {
        "id": "FYkeRKRb9M42"
      },
      "cell_type": "markdown",
      "source": [
        "## Model Score\n",
        "Check the model score using test data"
      ]
    },
    {
      "metadata": {
        "trusted": true,
        "colab": {
          "base_uri": "https://localhost:8080/"
        },
        "id": "HqvrL4D49M42",
        "outputId": "eb64ffa0-4cf2-43b6-a7bb-96275dfebaad"
      },
      "cell_type": "code",
      "source": [
        "lm.score(X_test, y_test)"
      ],
      "execution_count": null,
      "outputs": [
        {
          "output_type": "execute_result",
          "data": {
            "text/plain": [
              "0.9694444444444444"
            ]
          },
          "metadata": {},
          "execution_count": 8
        }
      ]
    },
    {
      "cell_type": "code",
      "source": [
        "lm1 = linear_model.LogisticRegression(multi_class='multinomial', solver='newton-cg')\n",
        "lm1.fit(X_train, y_train)"
      ],
      "metadata": {
        "colab": {
          "base_uri": "https://localhost:8080/",
          "height": 75
        },
        "id": "1s5w8Atg9uMt",
        "outputId": "ce17b760-2147-4350-dd6e-91c96a54db4c"
      },
      "execution_count": null,
      "outputs": [
        {
          "output_type": "execute_result",
          "data": {
            "text/plain": [
              "LogisticRegression(multi_class='multinomial', solver='newton-cg')"
            ],
            "text/html": [
              "<style>#sk-container-id-2 {color: black;background-color: white;}#sk-container-id-2 pre{padding: 0;}#sk-container-id-2 div.sk-toggleable {background-color: white;}#sk-container-id-2 label.sk-toggleable__label {cursor: pointer;display: block;width: 100%;margin-bottom: 0;padding: 0.3em;box-sizing: border-box;text-align: center;}#sk-container-id-2 label.sk-toggleable__label-arrow:before {content: \"▸\";float: left;margin-right: 0.25em;color: #696969;}#sk-container-id-2 label.sk-toggleable__label-arrow:hover:before {color: black;}#sk-container-id-2 div.sk-estimator:hover label.sk-toggleable__label-arrow:before {color: black;}#sk-container-id-2 div.sk-toggleable__content {max-height: 0;max-width: 0;overflow: hidden;text-align: left;background-color: #f0f8ff;}#sk-container-id-2 div.sk-toggleable__content pre {margin: 0.2em;color: black;border-radius: 0.25em;background-color: #f0f8ff;}#sk-container-id-2 input.sk-toggleable__control:checked~div.sk-toggleable__content {max-height: 200px;max-width: 100%;overflow: auto;}#sk-container-id-2 input.sk-toggleable__control:checked~label.sk-toggleable__label-arrow:before {content: \"▾\";}#sk-container-id-2 div.sk-estimator input.sk-toggleable__control:checked~label.sk-toggleable__label {background-color: #d4ebff;}#sk-container-id-2 div.sk-label input.sk-toggleable__control:checked~label.sk-toggleable__label {background-color: #d4ebff;}#sk-container-id-2 input.sk-hidden--visually {border: 0;clip: rect(1px 1px 1px 1px);clip: rect(1px, 1px, 1px, 1px);height: 1px;margin: -1px;overflow: hidden;padding: 0;position: absolute;width: 1px;}#sk-container-id-2 div.sk-estimator {font-family: monospace;background-color: #f0f8ff;border: 1px dotted black;border-radius: 0.25em;box-sizing: border-box;margin-bottom: 0.5em;}#sk-container-id-2 div.sk-estimator:hover {background-color: #d4ebff;}#sk-container-id-2 div.sk-parallel-item::after {content: \"\";width: 100%;border-bottom: 1px solid gray;flex-grow: 1;}#sk-container-id-2 div.sk-label:hover label.sk-toggleable__label {background-color: #d4ebff;}#sk-container-id-2 div.sk-serial::before {content: \"\";position: absolute;border-left: 1px solid gray;box-sizing: border-box;top: 0;bottom: 0;left: 50%;z-index: 0;}#sk-container-id-2 div.sk-serial {display: flex;flex-direction: column;align-items: center;background-color: white;padding-right: 0.2em;padding-left: 0.2em;position: relative;}#sk-container-id-2 div.sk-item {position: relative;z-index: 1;}#sk-container-id-2 div.sk-parallel {display: flex;align-items: stretch;justify-content: center;background-color: white;position: relative;}#sk-container-id-2 div.sk-item::before, #sk-container-id-2 div.sk-parallel-item::before {content: \"\";position: absolute;border-left: 1px solid gray;box-sizing: border-box;top: 0;bottom: 0;left: 50%;z-index: -1;}#sk-container-id-2 div.sk-parallel-item {display: flex;flex-direction: column;z-index: 1;position: relative;background-color: white;}#sk-container-id-2 div.sk-parallel-item:first-child::after {align-self: flex-end;width: 50%;}#sk-container-id-2 div.sk-parallel-item:last-child::after {align-self: flex-start;width: 50%;}#sk-container-id-2 div.sk-parallel-item:only-child::after {width: 0;}#sk-container-id-2 div.sk-dashed-wrapped {border: 1px dashed gray;margin: 0 0.4em 0.5em 0.4em;box-sizing: border-box;padding-bottom: 0.4em;background-color: white;}#sk-container-id-2 div.sk-label label {font-family: monospace;font-weight: bold;display: inline-block;line-height: 1.2em;}#sk-container-id-2 div.sk-label-container {text-align: center;}#sk-container-id-2 div.sk-container {/* jupyter's `normalize.less` sets `[hidden] { display: none; }` but bootstrap.min.css set `[hidden] { display: none !important; }` so we also need the `!important` here to be able to override the default hidden behavior on the sphinx rendered scikit-learn.org. See: https://github.com/scikit-learn/scikit-learn/issues/21755 */display: inline-block !important;position: relative;}#sk-container-id-2 div.sk-text-repr-fallback {display: none;}</style><div id=\"sk-container-id-2\" class=\"sk-top-container\"><div class=\"sk-text-repr-fallback\"><pre>LogisticRegression(multi_class=&#x27;multinomial&#x27;, solver=&#x27;newton-cg&#x27;)</pre><b>In a Jupyter environment, please rerun this cell to show the HTML representation or trust the notebook. <br />On GitHub, the HTML representation is unable to render, please try loading this page with nbviewer.org.</b></div><div class=\"sk-container\" hidden><div class=\"sk-item\"><div class=\"sk-estimator sk-toggleable\"><input class=\"sk-toggleable__control sk-hidden--visually\" id=\"sk-estimator-id-2\" type=\"checkbox\" checked><label for=\"sk-estimator-id-2\" class=\"sk-toggleable__label sk-toggleable__label-arrow\">LogisticRegression</label><div class=\"sk-toggleable__content\"><pre>LogisticRegression(multi_class=&#x27;multinomial&#x27;, solver=&#x27;newton-cg&#x27;)</pre></div></div></div></div></div>"
            ]
          },
          "metadata": {},
          "execution_count": 9
        }
      ]
    },
    {
      "cell_type": "code",
      "source": [
        "print('Predicted value is =', lm1.predict([X_test[200]]))\n",
        "\n",
        "print('Actual value from test data is %s and corresponding image is as below' % (y_test[200]) )\n",
        "plt.matshow(digits_df.images[200])\n",
        "plt.show()"
      ],
      "metadata": {
        "colab": {
          "base_uri": "https://localhost:8080/",
          "height": 473
        },
        "id": "poUJmtt498wq",
        "outputId": "101f47a6-0949-4802-8fbf-9c165c08a8a9"
      },
      "execution_count": null,
      "outputs": [
        {
          "output_type": "stream",
          "name": "stdout",
          "text": [
            "Predicted value is = [4]\n",
            "Actual value from test data is 4 and corresponding image is as below\n"
          ]
        },
        {
          "output_type": "display_data",
          "data": {
            "text/plain": [
              "<Figure size 480x480 with 1 Axes>"
            ],
            "image/png": "[encoded data removed]"
          },
          "metadata": {}
        }
      ]
    },
    {
      "cell_type": "code",
      "source": [
        "y_test[200]"
      ],
      "metadata": {
        "colab": {
          "base_uri": "https://localhost:8080/"
        },
        "id": "9t8fEy4E_iFt",
        "outputId": "4785cc4d-fbfc-4983-be13-0bcbe844b6a5"
      },
      "execution_count": null,
      "outputs": [
        {
          "output_type": "execute_result",
          "data": {
            "text/plain": [
              "4"
            ]
          },
          "metadata": {},
          "execution_count": 11
        }
      ]
    },
    {
      "cell_type": "code",
      "source": [
        "lm1.score(X_test, y_test)"
      ],
      "metadata": {
        "colab": {
          "base_uri": "https://localhost:8080/"
        },
        "id": "m3dLruIT-Gj1",
        "outputId": "252044ea-f7d2-4ec6-dca6-221f9097ef42"
      },
      "execution_count": null,
      "outputs": [
        {
          "output_type": "execute_result",
          "data": {
            "text/plain": [
              "0.9722222222222222"
            ]
          },
          "metadata": {},
          "execution_count": 12
        }
      ]
    },
    {
      "metadata": {
        "id": "Ydz1PbHW9M43"
      },
      "cell_type": "markdown",
      "source": [
        "## Confusion Matrix\n",
        "* Confusion matrix helps to visualize the performance of the model\n",
        "* The diagonal elements represent the number of points for which the predicted label is equal to the true label\n",
        "* Off-diagonal elements are those that are mislabeled by the classifier.\n",
        "* The higher the diagonal values of the confusion matrix the better, indicating many correct\n",
        "\n",
        "Let's create confusion matrix using sklearn library and test data"
      ]
    },
    {
      "metadata": {
        "id": "7gjrY4-H9M43"
      },
      "cell_type": "markdown",
      "source": [
        "## Classification Report\n",
        "Classification report is used to measure the quality of prediction from classification algorithm\n",
        "\n",
        "* Precision: Indicates how many classes are correctly classified\n",
        "* Recall: Indicates what proportions of actual positives was identified correctly\n",
        "* F-Score: It is the harmonic mean between precision & recall\n",
        "* Support: It is the number of occurrence of the given class in our dataset"
      ]
    },
    {
      "metadata": {
        "trusted": true,
        "id": "i8PQR8M89M43"
      },
      "cell_type": "code",
      "source": [
        "print(metrics.classification_report(y_test, lm.predict(X_test)))"
      ],
      "execution_count": null,
      "outputs": []
    },
    {
      "cell_type": "code",
      "source": [],
      "metadata": {
        "id": "rRniPWDq9hrD"
      },
      "execution_count": null,
      "outputs": []
    }
  ],
  "metadata": {
    "kernelspec": {
      "language": "python",
      "display_name": "Python 3",
      "name": "python3"
    },
    "language_info": {
      "pygments_lexer": "ipython3",
      "nbconvert_exporter": "python",
      "version": "3.6.4",
      "file_extension": ".py",
      "codemirror_mode": {
        "name": "ipython",
        "version": 3
      },
      "name": "python",
      "mimetype": "text/x-python"
    },
    "colab": {
      "provenance": [],
      "include_colab_link": true
    }
  },
  "nbformat": 4,
  "nbformat_minor": 0
}